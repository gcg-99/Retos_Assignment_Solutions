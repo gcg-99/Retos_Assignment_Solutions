{
 "cells": [
  {
   "cell_type": "markdown",
   "metadata": {},
   "source": [
    "# Assignment 1. Creating Objects \n",
    "## Gema Castillo García"
   ]
  },
  {
   "cell_type": "markdown",
   "metadata": {},
   "source": [
    "### Files I have created:\n",
    "Scripts defining each Class:\n",
    "\n",
    "    Gene.rb\n",
    "    Seed_stock.rb\n",
    "    Cross.rb\n",
    "\n",
    "**The 3 Classes are interconnected. The values of some Object Properties are other Objects: the Gene ID is the key to link Gene > Seed_stock and the seed stock ID is the key to link Seed_stock > Cross_data**. \n",
    "\n",
    "\n",
    "The main script that uses the previous 3 scripts to update the genebank information and to determine which genes are\n",
    "genetically-linked is:\n",
    "\n",
    "    process_database.rb\n",
    "\n",
    "\n",
    "### Final program\n",
    "    $ ruby process_database.rb  gene_information.tsv  seed_stock_data.tsv  cross_data.tsv new_stock_file.tsv\n",
    "    \n",
    "    \n",
    "    "
   ]
  },
  {
   "cell_type": "code",
   "execution_count": 1,
   "metadata": {},
   "outputs": [
    {
     "data": {
      "text/plain": [
       ":linked_genes"
      ]
     },
     "execution_count": 1,
     "metadata": {},
     "output_type": "execute_result"
    }
   ],
   "source": [
    "#the code of this box is in Gene.rb file\n",
    "\n",
    "#beginning a class definition for gene_information.tsv data\n",
    "class Gene\n",
    "  #creating \"attribute accessors\" to read and write objects' properties\n",
    "  attr_accessor :id\n",
    "  attr_accessor :name\n",
    "  attr_accessor :mutant_phenotype\n",
    "  attr_accessor :linked_to\n",
    "  \n",
    "  #initialization inside the class\n",
    "  def initialize(id ,name ,mutant_phenotype , linked_to) \n",
    "    @id = id\n",
    "    @name = name\n",
    "    @mutant_phenotype = mutant_phenotype\n",
    "    @linked_to = linked_to\n",
    "  end\n",
    "\n",
    "  \n",
    "  def Gene.load_from_file() ##BONUS: the object have a #load_from_file($gene_information.tsv)\n",
    "    require 'csv'\n",
    "    gene_info = [] #creating a new array that will contain the 'gene_information.tsv' data without the header by rows\n",
    "    CSV.foreach('gene_information.tsv', headers: true, :quote_char => \"|\") do |row|\n",
    "      gene_info << row\n",
    "    end\n",
    "    \n",
    "    #creating objects for 'Gene Class' and passing parameters for initialization\n",
    "    @@all_genes = [] \n",
    "    for $x in 0..4\n",
    "      if $x==0\n",
    "        #formatting the information contained in the array with the 'gene_information.tsv' data\n",
    "        gene_infox = gene_info[$x][0].split(\"\\t\")\n",
    "        gene_infox.map!{ |element| element.gsub(/\"/, '') }\n",
    "        if gene_infox[0] =~ /A[Tt]\\d[Gg]\\d\\d\\d\\d\\d/ ##BONUS: testing the format of the Gene ID \n",
    "          @@all_genes << Gene.new(gene_infox[0],gene_infox[1],gene_infox[2],\"none\") #creating an array with the new Objects\n",
    "        else\n",
    "          puts \"The Gene ID is not correct. Please, check it!\" ##BONUS: rejecting incorrect Gene ID without crashing\n",
    "        end\n",
    "      else\n",
    "        #formatting the information contained in the array with the 'gene_information.tsv' data\n",
    "        gene_infox = \"#{gene_info[$x][0]}, #{gene_info[$x][1]}\"\n",
    "        gene_infox = gene_infox.split(\"\\t\")\n",
    "        gene_infox.map!{ |element| element.gsub(/\"/, '') }\n",
    "        if gene_infox[0] =~ /A[Tt]\\d[Gg]\\d\\d\\d\\d\\d/ ##BONUS: testing the format of the Gene ID \n",
    "          @@all_genes << Gene.new(gene_infox[0],gene_infox[1],gene_infox[2],\"none\") #creating an array with the new Objects\n",
    "        else\n",
    "          puts \"The Gene ID is not correct. Please, check it!\" ##BONUS: rejecting incorrect Gene ID without crashing\n",
    "        end\n",
    "        $x +=1\n",
    "      end\n",
    "    end\n",
    "    puts @@all_genes #showing the content of the created objects for 'Gene Class'\n",
    "    puts\n",
    "  end\n",
    "  \n",
    "  \n",
    "  def Gene.show_genes #defining a method to work with Gene Class objects\n",
    "    return @@all_genes\n",
    "  end\n",
    "  \n",
    "\n",
    "  def Gene.linked_genes #defining a method to write a final report with linked genes\n",
    "    puts \"Final Report:\"\n",
    "    Gene.show_genes.each do |g|\n",
    "      if g.linked_to != \"none\"\n",
    "        puts \"#{g.name} is linked to #{g.linked_to}\"\n",
    "      end\n",
    "    end\n",
    "  end\n",
    "  \n",
    "end\n"
   ]
  },
  {
   "cell_type": "code",
   "execution_count": 2,
   "metadata": {},
   "outputs": [
    {
     "data": {
      "text/plain": [
       ":get_seed_stock"
      ]
     },
     "execution_count": 2,
     "metadata": {},
     "output_type": "execute_result"
    }
   ],
   "source": [
    "#the code of this box is in Seed_stock.rb file\n",
    "\n",
    "#beginning a class definition for seed_stock_data.tsv information\n",
    "class Seed_stock < Gene #Seed_stock is inheriting the properties of Gene\n",
    "  #creating \"attribute accessors\" to read and write objects' properties\n",
    "  attr_accessor :stock\n",
    "  attr_accessor :gene_ID\n",
    "  attr_accessor :last_planted\n",
    "  attr_accessor :storage\n",
    "  attr_accessor :grams_remaining\n",
    "  \n",
    "  \n",
    "  #initialization inside the class\n",
    "  def initialize(stock ,gene_ID ,last_planted ,storage ,grams_remaining ) \n",
    "    @stock = stock    \n",
    "    @gene_ID = gene_ID    \n",
    "    @last_planted = last_planted\n",
    "    @storage = storage\n",
    "    @grams_remaining = grams_remaining\n",
    "  end\n",
    "\n",
    "\n",
    "  def Seed_stock.load_from_file() ##BONUS: the object have a #load_from_file($seed_stock_data.tsv)\n",
    "    require 'csv'\n",
    "    seed_stock_data = [] #creating a new array that will contain the 'seed_stock_data.tsv' data without the header by rows\n",
    "    CSV.foreach('seed_stock_data.tsv', headers: true, :quote_char => \"|\") do |row|\n",
    "      seed_stock_data << row\n",
    "    end\n",
    "    \n",
    "    @@all_stocks = []\n",
    "    for $s in 0..4\n",
    "      seed_stock_datax = seed_stock_data[$s][0].split(\"\\t\") #formatting the information contained in the array with the 'seed_stock_data.tsv' data\n",
    "      @@all_stocks << Seed_stock.new(seed_stock_datax[0],seed_stock_datax[1],seed_stock_datax[2],seed_stock_datax[3],seed_stock_datax[4]) #creating an array with the new Objects\n",
    "      $s +=1\n",
    "    end\n",
    "    \n",
    "    #introducing a Gene's Object in gene_ID property value by Gene ID (ATxGgxxxxx)\n",
    "    Gene.show_genes.each do |y|\n",
    "      @@all_stocks.each do |z|\n",
    "        if y.id == z.gene_ID\n",
    "        z.gene_ID = y\n",
    "        #each Seed_stock Object will have the corresponding Gene's Object in its property @gene_ID\n",
    "        end\n",
    "      end\n",
    "    end\n",
    "    puts @@all_stocks #showing the content of the created objects for 'Seed_stock Class'\n",
    "    puts\n",
    "  end\n",
    "  \n",
    "  \n",
    "  def Seed_stock.show_stocks #defining a method to work with Seed_stock Class objects\n",
    "    return @@all_stocks\n",
    "  end\n",
    "  \n",
    "  \n",
    "  def Seed_stock.updating_seed_stock(grams_to_plant, date) #defining a method to update the amount of remaining grams in a specific date\n",
    "    ##BONUS: the object have a #write_database('new_stock_file.tsv')\n",
    "    Seed_stock.show_stocks.each do |s|\n",
    "    updated_grams = s.grams_remaining.to_i - grams_to_plant\n",
    "    s.last_planted = date\n",
    "      if updated_grams <= 0\n",
    "        updated_grams = 0\n",
    "        puts \"WARNING: we have run out of Seed Stock #{s.stock}\"\n",
    "        File.open(\"new_stock_file.tsv\", \"a\") { |f| f.write(\"#{s.stock}\\t#{s.gene_ID.id}\\t#{s.last_planted}\\t#{s.storage}\\t#{updated_grams}\\n\") }\n",
    "      else\n",
    "        File.open(\"new_stock_file.tsv\", \"a\") { |f| f.write(\"#{s.stock}\\t#{s.gene_ID.id}\\t#{s.last_planted}\\t#{s.storage}\\t#{updated_grams}\\n\") }\n",
    "      end\n",
    "    end\n",
    "  end\n",
    "  \n",
    "  \n",
    "  def Seed_stock.get_seed_stock(somestock) ##BONUS: objects may access individual SeedStock objects based on their stock ID (e.g., 'A334')\n",
    "    Seed_stock.show_stocks.each do |s|\n",
    "      if s.stock.include?(somestock)\n",
    "        puts \"Stock ID: #{s.stock}, Gene ID: #{s.gene_ID.id}, last planted: #{s.last_planted}, storage: #{s.storage}, grams remaining: #{s.grams_remaining}\"\n",
    "        break\n",
    "      else\n",
    "        puts \"The Stock ID #{somestock} is not present in the database.\"\n",
    "        break\n",
    "      end\n",
    "    end\n",
    "  end\n",
    "  \n",
    "end"
   ]
  },
  {
   "cell_type": "code",
   "execution_count": 3,
   "metadata": {},
   "outputs": [
    {
     "data": {
      "text/plain": [
       ":chi_square"
      ]
     },
     "execution_count": 3,
     "metadata": {},
     "output_type": "execute_result"
    }
   ],
   "source": [
    "#the code of this box is in Cross.rb file\n",
    "\n",
    "#beginning a class definition for cross_data.tsv information\n",
    "class Cross < Seed_stock #Cross is inheriting the properties of Seed_stock\n",
    "  #creating \"attribute accessors\" to read and write objects' properties\n",
    "  attr_accessor :parent_1\n",
    "  attr_accessor :parent_2\n",
    "  attr_accessor :f2_wild\n",
    "  attr_accessor :f2_P1\n",
    "  attr_accessor :f2_P2\n",
    "  attr_accessor :f2_P1P2\n",
    "  \n",
    "  #initialization inside the class\n",
    "  def initialize(parent_1 ,parent_2 ,f2_wild ,f2_P1 ,f2_P2 ,f2_P1P2 ) \n",
    "    @parent_1 = parent_1\n",
    "    @parent_2 = parent_2\n",
    "    @f2_wild = f2_wild\n",
    "    @f2_P1 = f2_P1\n",
    "    @f2_P2 = f2_P2\n",
    "    @f2_P1P2 = f2_P1P2\n",
    "  end\n",
    "  \n",
    "  \n",
    "  def Cross.load_from_file() ##BONUS: the object have a #load_from_file($seed_stock_data.tsv)\n",
    "    require 'csv'\n",
    "    cross_data = [] #creating a new array that will contain the 'cross_data.tsv' data without the header by rows\n",
    "    CSV.foreach('cross_data.tsv', headers: true, :quote_char => \"|\") do |row|\n",
    "      cross_data << row\n",
    "    end\n",
    "    \n",
    "    #creating objects for 'Cross Class' and passing parameters for initialization\n",
    "    @@all_crosses = []\n",
    "    for $c in 0..4\n",
    "      cross_datax = cross_data[$c][0].split(\"\\t\") #formatting the information contained in the array with the 'cross_data.tsv' data\n",
    "      @@all_crosses << Cross.new(cross_datax[0],cross_datax[1],cross_datax[2],cross_datax[3],cross_datax[4],cross_datax[5]) #creating an array with the new Objects\n",
    "      $c +=1\n",
    "    end\n",
    "    \n",
    "    #introducing a Seed_stock's Object in parent_1/2 properties values by seed stock ID (e.g., A348)\n",
    "    Seed_stock.show_stocks.each do |yy|\n",
    "      @@all_crosses.each do |zz|\n",
    "        if yy.stock == zz.parent_1\n",
    "          zz.parent_1 = yy\n",
    "          #each Cross Object will have the corresponding Seed_stock's Object in its property @parent_1\n",
    "        end\n",
    "        if yy.stock == zz.parent_2\n",
    "          zz.parent_2 = yy\n",
    "          #each Cross Object will have the corresponding Seed_stock's Object in its property @parent_2\n",
    "        end\n",
    "      end\n",
    "    end\n",
    "    puts @@all_crosses #showing the content of the created objects for 'Cross Class'\n",
    "    puts\n",
    "  end\n",
    "\n",
    "  \n",
    "  def Cross.show_crosses #defining a method to work with Cross Class objects\n",
    "    return @@all_crosses\n",
    "  end\n",
    " \n",
    "  \n",
    "  def Cross.chi_square #defining a method to do the chi² test\n",
    "    Cross.show_crosses.each do |c|\n",
    "      total_F2 = c.f2_wild.to_i + c.f2_P1.to_i + c.f2_P2.to_i + c.f2_P1P2.to_i\n",
    "      expected = [total_F2*(9.0/16), total_F2*(3.0/16), total_F2*(3.0/16), total_F2*(1.0/16)] #expected frequencies if not linked for dihybrids' (heterozygous for 2 characters) offspring\n",
    "      chi² = ((((c.f2_wild.to_i - expected[0])**2)/expected[0]) + (((c.f2_P1.to_i - expected[1])**2)/expected[1]) + (((c.f2_P2.to_i - expected[2])**2)/expected[2]) + (((c.f2_P1P2.to_i - expected[3])**2)/expected[3]))\n",
    "      if chi² > 7.8147 #results are statistically significant (p < 0.05) with df = 3 (4 phenotypes - 1)        \n",
    "        c.parent_1.gene_ID.linked_to = c.parent_2.gene_ID.name\n",
    "        c.parent_2.gene_ID.linked_to = c.parent_1.gene_ID.name\n",
    "        puts \"Recording: #{c.parent_1.gene_ID.name} is genetically linked to #{c.parent_2.gene_ID.name} with chisquare score #{chi²}\"\n",
    "      end\n",
    "    end\n",
    "  end\n",
    "  \n",
    "end\n",
    "\n",
    "\n",
    "##BONUS: this Class represents the entire Seed Stock \"database\""
   ]
  },
  {
   "cell_type": "markdown",
   "metadata": {},
   "source": [
    "## 1) \"Simulate\" planting 7 grams of seeds from each of the records in the seed stock genebank, then update the genebank information to show the new quantity of seeds that remain after a planting\n",
    "- The new state of the genebank should be printed to a new file (new_stock_file.tsv), using exactly the same format as the original file seed_stock_data.tsv\n",
    "- If the amount of seed is reduced to zero or less than zero, then a friendly WARNING message should appear on the screen\n",
    "> The amount of seed left in the gene bank is, of course, not LESS than zero"
   ]
  },
  {
   "cell_type": "code",
   "execution_count": null,
   "metadata": {},
   "outputs": [],
   "source": [
    "#only run if you haven't run the boxes above\n",
    "require './Gene.rb'  #using Gene Class\n",
    "require './Seed_stock.rb'  #using Seed_stock Class\n",
    "require './Cross.rb'  #using Cross Class"
   ]
  },
  {
   "cell_type": "code",
   "execution_count": 4,
   "metadata": {},
   "outputs": [
    {
     "name": "stdout",
     "output_type": "stream",
     "text": [
      "[#<Gene:0x000055ee866efaa8 @id=\"AT1G69120\", @name=\"ap1\", @mutant_phenotype=\"meristems replace first and second whorl\", @linked_to=\"none\">, #<Gene:0x000055ee866ef698 @id=\"AT4G36920\", @name=\"ap2\", @mutant_phenotype=\"first whorl carpels,  second whorl stamens\", @linked_to=\"none\">, #<Gene:0x000055ee866ef288 @id=\"AT3G54340\", @name=\"ap3\", @mutant_phenotype=\"second whorl sepals,  third whorl carpels\", @linked_to=\"none\">, #<Gene:0x000055ee866eee78 @id=\"AT1G30950\", @name=\"ufo\", @mutant_phenotype=\"second whorl sepaloidy,  third whorl missing or carpeloid\", @linked_to=\"none\">, #<Gene:0x000055ee866eea68 @id=\"AT5G20240\", @name=\"pi\", @mutant_phenotype=\"second whorl sepals,  third whorl carpels\", @linked_to=\"none\">]\n",
      "\n",
      "[#<Seed_stock:0x000055ee866f6600 @stock=\"A334\", @gene_ID=#<Gene:0x000055ee866efaa8 @id=\"AT1G69120\", @name=\"ap1\", @mutant_phenotype=\"meristems replace first and second whorl\", @linked_to=\"none\">, @last_planted=\"5/7/2014\", @storage=\"cama2\", @grams_remaining=\"28\">, #<Seed_stock:0x000055ee866f6420 @stock=\"A348\", @gene_ID=#<Gene:0x000055ee866ef698 @id=\"AT4G36920\", @name=\"ap2\", @mutant_phenotype=\"first whorl carpels,  second whorl stamens\", @linked_to=\"none\">, @last_planted=\"3/11/2013\", @storage=\"cama25\", @grams_remaining=\"12\">, #<Seed_stock:0x000055ee866f6240 @stock=\"B3334\", @gene_ID=#<Gene:0x000055ee866ef288 @id=\"AT3G54340\", @name=\"ap3\", @mutant_phenotype=\"second whorl sepals,  third whorl carpels\", @linked_to=\"none\">, @last_planted=\"1/12/2014\", @storage=\"cama18\", @grams_remaining=\"22\">, #<Seed_stock:0x000055ee866f6060 @stock=\"A51\", @gene_ID=#<Gene:0x000055ee866eee78 @id=\"AT1G30950\", @name=\"ufo\", @mutant_phenotype=\"second whorl sepaloidy,  third whorl missing or carpeloid\", @linked_to=\"none\">, @last_planted=\"9/2/2013\", @storage=\"cama25\", @grams_remaining=\"5\">, #<Seed_stock:0x000055ee866f5e80 @stock=\"B52\", @gene_ID=#<Gene:0x000055ee866eea68 @id=\"AT5G20240\", @name=\"pi\", @mutant_phenotype=\"second whorl sepals,  third whorl carpels\", @linked_to=\"none\">, @last_planted=\"8/11/2012\", @storage=\"cama16\", @grams_remaining=\"7\">]\n",
      "\n",
      "[#<Cross:0x000055ee86701848 @parent_1=#<Seed_stock:0x000055ee866f6600 @stock=\"A334\", @gene_ID=#<Gene:0x000055ee866efaa8 @id=\"AT1G69120\", @name=\"ap1\", @mutant_phenotype=\"meristems replace first and second whorl\", @linked_to=\"none\">, @last_planted=\"5/7/2014\", @storage=\"cama2\", @grams_remaining=\"28\">, @parent_2=#<Seed_stock:0x000055ee866f6420 @stock=\"A348\", @gene_ID=#<Gene:0x000055ee866ef698 @id=\"AT4G36920\", @name=\"ap2\", @mutant_phenotype=\"first whorl carpels,  second whorl stamens\", @linked_to=\"none\">, @last_planted=\"3/11/2013\", @storage=\"cama25\", @grams_remaining=\"12\">, @f2_wild=\"110\", @f2_P1=\"33\", @f2_P2=\"38\", @f2_P1P2=\"11\">, #<Cross:0x000055ee86701640 @parent_1=#<Seed_stock:0x000055ee866f6420 @stock=\"A348\", @gene_ID=#<Gene:0x000055ee866ef698 @id=\"AT4G36920\", @name=\"ap2\", @mutant_phenotype=\"first whorl carpels,  second whorl stamens\", @linked_to=\"none\">, @last_planted=\"3/11/2013\", @storage=\"cama25\", @grams_remaining=\"12\">, @parent_2=#<Seed_stock:0x000055ee866f6240 @stock=\"B3334\", @gene_ID=#<Gene:0x000055ee866ef288 @id=\"AT3G54340\", @name=\"ap3\", @mutant_phenotype=\"second whorl sepals,  third whorl carpels\", @linked_to=\"none\">, @last_planted=\"1/12/2014\", @storage=\"cama18\", @grams_remaining=\"22\">, @f2_wild=\"80\", @f2_P1=\"26\", @f2_P2=\"29\", @f2_P1P2=\"8\">, #<Cross:0x000055ee86701438 @parent_1=#<Seed_stock:0x000055ee866f6240 @stock=\"B3334\", @gene_ID=#<Gene:0x000055ee866ef288 @id=\"AT3G54340\", @name=\"ap3\", @mutant_phenotype=\"second whorl sepals,  third whorl carpels\", @linked_to=\"none\">, @last_planted=\"1/12/2014\", @storage=\"cama18\", @grams_remaining=\"22\">, @parent_2=#<Seed_stock:0x000055ee866f6060 @stock=\"A51\", @gene_ID=#<Gene:0x000055ee866eee78 @id=\"AT1G30950\", @name=\"ufo\", @mutant_phenotype=\"second whorl sepaloidy,  third whorl missing or carpeloid\", @linked_to=\"none\">, @last_planted=\"9/2/2013\", @storage=\"cama25\", @grams_remaining=\"5\">, @f2_wild=\"99\", @f2_P1=\"36\", @f2_P2=\"34\", @f2_P1P2=\"12\">, #<Cross:0x000055ee86701230 @parent_1=#<Seed_stock:0x000055ee866f6060 @stock=\"A51\", @gene_ID=#<Gene:0x000055ee866eee78 @id=\"AT1G30950\", @name=\"ufo\", @mutant_phenotype=\"second whorl sepaloidy,  third whorl missing or carpeloid\", @linked_to=\"none\">, @last_planted=\"9/2/2013\", @storage=\"cama25\", @grams_remaining=\"5\">, @parent_2=#<Seed_stock:0x000055ee866f5e80 @stock=\"B52\", @gene_ID=#<Gene:0x000055ee866eea68 @id=\"AT5G20240\", @name=\"pi\", @mutant_phenotype=\"second whorl sepals,  third whorl carpels\", @linked_to=\"none\">, @last_planted=\"8/11/2012\", @storage=\"cama16\", @grams_remaining=\"7\">, @f2_wild=\"152\", @f2_P1=\"26\", @f2_P2=\"22\", @f2_P1P2=\"2\">, #<Cross:0x000055ee86701028 @parent_1=#<Seed_stock:0x000055ee866f5e80 @stock=\"B52\", @gene_ID=#<Gene:0x000055ee866eea68 @id=\"AT5G20240\", @name=\"pi\", @mutant_phenotype=\"second whorl sepals,  third whorl carpels\", @linked_to=\"none\">, @last_planted=\"8/11/2012\", @storage=\"cama16\", @grams_remaining=\"7\">, @parent_2=#<Seed_stock:0x000055ee866f6600 @stock=\"A334\", @gene_ID=#<Gene:0x000055ee866efaa8 @id=\"AT1G69120\", @name=\"ap1\", @mutant_phenotype=\"meristems replace first and second whorl\", @linked_to=\"none\">, @last_planted=\"5/7/2014\", @storage=\"cama2\", @grams_remaining=\"28\">, @f2_wild=\"75\", @f2_P1=\"22\", @f2_P2=\"30\", @f2_P1P2=\"7\">]\n",
      "\n"
     ]
    }
   ],
   "source": [
    "#creating objects from tsv files and showing their content (puts @@all_stocks/genes/crosses in boxes above)\n",
    "##this output is not visible in the terminal because the .rb files has '##' before puts @@all_stocks/genes/crosses\n",
    "\n",
    "Gene.load_from_file() #all objects with linked_to=\"none\" because \"none\" is the default value\n",
    "Seed_stock.load_from_file() #Seed_stock has inherited Gene objects in the @gene_ID property\n",
    "Cross.load_from_file() #Cross has inherited Seed_stock objects in @parent_1 and @parent_2 properties"
   ]
  },
  {
   "cell_type": "code",
   "execution_count": 5,
   "metadata": {},
   "outputs": [
    {
     "name": "stdout",
     "output_type": "stream",
     "text": [
      "WARNING: we have run out of Seed Stock A51\n",
      "WARNING: we have run out of Seed Stock B52\n"
     ]
    },
    {
     "data": {
      "text/plain": [
       "[#<Seed_stock:0x000055ee866f6600 @stock=\"A334\", @gene_ID=#<Gene:0x000055ee866efaa8 @id=\"AT1G69120\", @name=\"ap1\", @mutant_phenotype=\"meristems replace first and second whorl\", @linked_to=\"none\">, @last_planted=\"16/10/2021\", @storage=\"cama2\", @grams_remaining=\"28\">, #<Seed_stock:0x000055ee866f6420 @stock=\"A348\", @gene_ID=#<Gene:0x000055ee866ef698 @id=\"AT4G36920\", @name=\"ap2\", @mutant_phenotype=\"first whorl carpels,  second whorl stamens\", @linked_to=\"none\">, @last_planted=\"16/10/2021\", @storage=\"cama25\", @grams_remaining=\"12\">, #<Seed_stock:0x000055ee866f6240 @stock=\"B3334\", @gene_ID=#<Gene:0x000055ee866ef288 @id=\"AT3G54340\", @name=\"ap3\", @mutant_phenotype=\"second whorl sepals,  third whorl carpels\", @linked_to=\"none\">, @last_planted=\"16/10/2021\", @storage=\"cama18\", @grams_remaining=\"22\">, #<Seed_stock:0x000055ee866f6060 @stock=\"A51\", @gene_ID=#<Gene:0x000055ee866eee78 @id=\"AT1G30950\", @name=\"ufo\", @mutant_phenotype=\"second whorl sepaloidy,  third whorl missing or carpeloid\", @linked_to=\"none\">, @last_planted=\"16/10/2021\", @storage=\"cama25\", @grams_remaining=\"5\">, #<Seed_stock:0x000055ee866f5e80 @stock=\"B52\", @gene_ID=#<Gene:0x000055ee866eea68 @id=\"AT5G20240\", @name=\"pi\", @mutant_phenotype=\"second whorl sepals,  third whorl carpels\", @linked_to=\"none\">, @last_planted=\"16/10/2021\", @storage=\"cama16\", @grams_remaining=\"7\">]"
      ]
     },
     "execution_count": 5,
     "metadata": {},
     "output_type": "execute_result"
    }
   ],
   "source": [
    "##BONUS: the object have a #write_database('new_stock_file.tsv')\n",
    "File.open(\"new_stock_file.tsv\", \"a\") { |f| f.write(\"Seed_Stock\\tMutant_Gene_ID\\tLast_Planted\\tStorage\\tGrams_Remaining\\n\") }\n",
    "Seed_stock.updating_seed_stock(7, \"16/10/2021\")"
   ]
  },
  {
   "cell_type": "code",
   "execution_count": 6,
   "metadata": {},
   "outputs": [
    {
     "name": "stdout",
     "output_type": "stream",
     "text": [
      "Stock ID: A334, Gene ID: AT1G69120, last planted: 16/10/2021, storage: cama2, grams remaining: 28\n",
      "The Stock ID B334 is not present in the database.\n"
     ]
    }
   ],
   "source": [
    "##BONUS: objects may access individual SeedStock objects based on their stock ID\n",
    "##(I haven't put this on the process_database.rb file because it is not required in the instructions)\n",
    "Seed_stock.get_seed_stock(\"A334\") #if you search for a stock ID present in your Class, you obtain the corresponding object\n",
    "Seed_stock.get_seed_stock(\"B334\") #if you search for a stock ID not present in your Class, you obtain a warning message"
   ]
  },
  {
   "cell_type": "markdown",
   "metadata": {},
   "source": [
    "## 2)\tProcess the information in cross_data.tsv and determine which genes are genetically-linked.\n",
    "To achieve this, you will have to do a Chi-square test on the F2 cross data. If you discover genes that are linked, this information should be added as a property of each of the genes (they are both linked to each other)."
   ]
  },
  {
   "cell_type": "code",
   "execution_count": 7,
   "metadata": {},
   "outputs": [
    {
     "name": "stdout",
     "output_type": "stream",
     "text": [
      "Recording: ufo is genetically linked to pi with chisquare score 32.27942794279428\n"
     ]
    },
    {
     "data": {
      "text/plain": [
       "[#<Cross:0x000055ee86701848 @parent_1=#<Seed_stock:0x000055ee866f6600 @stock=\"A334\", @gene_ID=#<Gene:0x000055ee866efaa8 @id=\"AT1G69120\", @name=\"ap1\", @mutant_phenotype=\"meristems replace first and second whorl\", @linked_to=\"none\">, @last_planted=\"16/10/2021\", @storage=\"cama2\", @grams_remaining=\"28\">, @parent_2=#<Seed_stock:0x000055ee866f6420 @stock=\"A348\", @gene_ID=#<Gene:0x000055ee866ef698 @id=\"AT4G36920\", @name=\"ap2\", @mutant_phenotype=\"first whorl carpels,  second whorl stamens\", @linked_to=\"none\">, @last_planted=\"16/10/2021\", @storage=\"cama25\", @grams_remaining=\"12\">, @f2_wild=\"110\", @f2_P1=\"33\", @f2_P2=\"38\", @f2_P1P2=\"11\">, #<Cross:0x000055ee86701640 @parent_1=#<Seed_stock:0x000055ee866f6420 @stock=\"A348\", @gene_ID=#<Gene:0x000055ee866ef698 @id=\"AT4G36920\", @name=\"ap2\", @mutant_phenotype=\"first whorl carpels,  second whorl stamens\", @linked_to=\"none\">, @last_planted=\"16/10/2021\", @storage=\"cama25\", @grams_remaining=\"12\">, @parent_2=#<Seed_stock:0x000055ee866f6240 @stock=\"B3334\", @gene_ID=#<Gene:0x000055ee866ef288 @id=\"AT3G54340\", @name=\"ap3\", @mutant_phenotype=\"second whorl sepals,  third whorl carpels\", @linked_to=\"none\">, @last_planted=\"16/10/2021\", @storage=\"cama18\", @grams_remaining=\"22\">, @f2_wild=\"80\", @f2_P1=\"26\", @f2_P2=\"29\", @f2_P1P2=\"8\">, #<Cross:0x000055ee86701438 @parent_1=#<Seed_stock:0x000055ee866f6240 @stock=\"B3334\", @gene_ID=#<Gene:0x000055ee866ef288 @id=\"AT3G54340\", @name=\"ap3\", @mutant_phenotype=\"second whorl sepals,  third whorl carpels\", @linked_to=\"none\">, @last_planted=\"16/10/2021\", @storage=\"cama18\", @grams_remaining=\"22\">, @parent_2=#<Seed_stock:0x000055ee866f6060 @stock=\"A51\", @gene_ID=#<Gene:0x000055ee866eee78 @id=\"AT1G30950\", @name=\"ufo\", @mutant_phenotype=\"second whorl sepaloidy,  third whorl missing or carpeloid\", @linked_to=\"pi\">, @last_planted=\"16/10/2021\", @storage=\"cama25\", @grams_remaining=\"5\">, @f2_wild=\"99\", @f2_P1=\"36\", @f2_P2=\"34\", @f2_P1P2=\"12\">, #<Cross:0x000055ee86701230 @parent_1=#<Seed_stock:0x000055ee866f6060 @stock=\"A51\", @gene_ID=#<Gene:0x000055ee866eee78 @id=\"AT1G30950\", @name=\"ufo\", @mutant_phenotype=\"second whorl sepaloidy,  third whorl missing or carpeloid\", @linked_to=\"pi\">, @last_planted=\"16/10/2021\", @storage=\"cama25\", @grams_remaining=\"5\">, @parent_2=#<Seed_stock:0x000055ee866f5e80 @stock=\"B52\", @gene_ID=#<Gene:0x000055ee866eea68 @id=\"AT5G20240\", @name=\"pi\", @mutant_phenotype=\"second whorl sepals,  third whorl carpels\", @linked_to=\"ufo\">, @last_planted=\"16/10/2021\", @storage=\"cama16\", @grams_remaining=\"7\">, @f2_wild=\"152\", @f2_P1=\"26\", @f2_P2=\"22\", @f2_P1P2=\"2\">, #<Cross:0x000055ee86701028 @parent_1=#<Seed_stock:0x000055ee866f5e80 @stock=\"B52\", @gene_ID=#<Gene:0x000055ee866eea68 @id=\"AT5G20240\", @name=\"pi\", @mutant_phenotype=\"second whorl sepals,  third whorl carpels\", @linked_to=\"ufo\">, @last_planted=\"16/10/2021\", @storage=\"cama16\", @grams_remaining=\"7\">, @parent_2=#<Seed_stock:0x000055ee866f6600 @stock=\"A334\", @gene_ID=#<Gene:0x000055ee866efaa8 @id=\"AT1G69120\", @name=\"ap1\", @mutant_phenotype=\"meristems replace first and second whorl\", @linked_to=\"none\">, @last_planted=\"16/10/2021\", @storage=\"cama2\", @grams_remaining=\"28\">, @f2_wild=\"75\", @f2_P1=\"22\", @f2_P2=\"30\", @f2_P1P2=\"7\">]"
      ]
     },
     "execution_count": 7,
     "metadata": {},
     "output_type": "execute_result"
    }
   ],
   "source": [
    "Cross.chi_square"
   ]
  },
  {
   "cell_type": "code",
   "execution_count": 8,
   "metadata": {},
   "outputs": [
    {
     "name": "stdout",
     "output_type": "stream",
     "text": [
      "Final Report:\n",
      "ufo is linked to pi\n",
      "pi is linked to ufo\n"
     ]
    },
    {
     "data": {
      "text/plain": [
       "[#<Gene:0x000055ee866efaa8 @id=\"AT1G69120\", @name=\"ap1\", @mutant_phenotype=\"meristems replace first and second whorl\", @linked_to=\"none\">, #<Gene:0x000055ee866ef698 @id=\"AT4G36920\", @name=\"ap2\", @mutant_phenotype=\"first whorl carpels,  second whorl stamens\", @linked_to=\"none\">, #<Gene:0x000055ee866ef288 @id=\"AT3G54340\", @name=\"ap3\", @mutant_phenotype=\"second whorl sepals,  third whorl carpels\", @linked_to=\"none\">, #<Gene:0x000055ee866eee78 @id=\"AT1G30950\", @name=\"ufo\", @mutant_phenotype=\"second whorl sepaloidy,  third whorl missing or carpeloid\", @linked_to=\"pi\">, #<Gene:0x000055ee866eea68 @id=\"AT5G20240\", @name=\"pi\", @mutant_phenotype=\"second whorl sepals,  third whorl carpels\", @linked_to=\"ufo\">]"
      ]
     },
     "execution_count": 8,
     "metadata": {},
     "output_type": "execute_result"
    }
   ],
   "source": [
    "Gene.linked_genes"
   ]
  },
  {
   "cell_type": "code",
   "execution_count": null,
   "metadata": {},
   "outputs": [],
   "source": []
  }
 ],
 "metadata": {
  "kernelspec": {
   "display_name": "Ruby 2.5.1",
   "language": "ruby",
   "name": "ruby"
  },
  "language_info": {
   "file_extension": ".rb",
   "mimetype": "application/x-ruby",
   "name": "ruby",
   "version": "2.5.1"
  }
 },
 "nbformat": 4,
 "nbformat_minor": 2
}
